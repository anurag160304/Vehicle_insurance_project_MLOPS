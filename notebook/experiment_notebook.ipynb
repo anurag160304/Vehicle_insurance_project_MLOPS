{
 "cells": [
  {
   "cell_type": "code",
   "execution_count": 22,
   "id": "931b8623",
   "metadata": {},
   "outputs": [],
   "source": [
    "import numpy as np\n",
    "import pandas as pd\n",
    "import matplotlib.pyplot as plt\n",
    "import seaborn as sns \n",
    "from sklearn.preprocessing import LabelEncoder\n"
   ]
  },
  {
   "cell_type": "code",
   "execution_count": 23,
   "id": "f4d350fd",
   "metadata": {},
   "outputs": [
    {
     "data": {
      "text/html": [
       "<div>\n",
       "<style scoped>\n",
       "    .dataframe tbody tr th:only-of-type {\n",
       "        vertical-align: middle;\n",
       "    }\n",
       "\n",
       "    .dataframe tbody tr th {\n",
       "        vertical-align: top;\n",
       "    }\n",
       "\n",
       "    .dataframe thead th {\n",
       "        text-align: right;\n",
       "    }\n",
       "</style>\n",
       "<table border=\"1\" class=\"dataframe\">\n",
       "  <thead>\n",
       "    <tr style=\"text-align: right;\">\n",
       "      <th></th>\n",
       "      <th>case_id</th>\n",
       "      <th>continent</th>\n",
       "      <th>education_of_employee</th>\n",
       "      <th>has_job_experience</th>\n",
       "      <th>requires_job_training</th>\n",
       "      <th>no_of_employees</th>\n",
       "      <th>yr_of_estab</th>\n",
       "      <th>region_of_employment</th>\n",
       "      <th>prevailing_wage</th>\n",
       "      <th>unit_of_wage</th>\n",
       "      <th>full_time_position</th>\n",
       "      <th>case_status</th>\n",
       "    </tr>\n",
       "  </thead>\n",
       "  <tbody>\n",
       "    <tr>\n",
       "      <th>0</th>\n",
       "      <td>EZYV01</td>\n",
       "      <td>Asia</td>\n",
       "      <td>High School</td>\n",
       "      <td>N</td>\n",
       "      <td>N</td>\n",
       "      <td>14513</td>\n",
       "      <td>2007</td>\n",
       "      <td>West</td>\n",
       "      <td>592.2029</td>\n",
       "      <td>Hour</td>\n",
       "      <td>Y</td>\n",
       "      <td>Denied</td>\n",
       "    </tr>\n",
       "    <tr>\n",
       "      <th>1</th>\n",
       "      <td>EZYV02</td>\n",
       "      <td>Asia</td>\n",
       "      <td>Master's</td>\n",
       "      <td>Y</td>\n",
       "      <td>N</td>\n",
       "      <td>2412</td>\n",
       "      <td>2002</td>\n",
       "      <td>Northeast</td>\n",
       "      <td>83425.6500</td>\n",
       "      <td>Year</td>\n",
       "      <td>Y</td>\n",
       "      <td>Certified</td>\n",
       "    </tr>\n",
       "    <tr>\n",
       "      <th>2</th>\n",
       "      <td>EZYV03</td>\n",
       "      <td>Asia</td>\n",
       "      <td>Bachelor's</td>\n",
       "      <td>N</td>\n",
       "      <td>Y</td>\n",
       "      <td>44444</td>\n",
       "      <td>2008</td>\n",
       "      <td>West</td>\n",
       "      <td>122996.8600</td>\n",
       "      <td>Year</td>\n",
       "      <td>Y</td>\n",
       "      <td>Denied</td>\n",
       "    </tr>\n",
       "    <tr>\n",
       "      <th>3</th>\n",
       "      <td>EZYV04</td>\n",
       "      <td>Asia</td>\n",
       "      <td>Bachelor's</td>\n",
       "      <td>N</td>\n",
       "      <td>N</td>\n",
       "      <td>98</td>\n",
       "      <td>1897</td>\n",
       "      <td>West</td>\n",
       "      <td>83434.0300</td>\n",
       "      <td>Year</td>\n",
       "      <td>Y</td>\n",
       "      <td>Denied</td>\n",
       "    </tr>\n",
       "    <tr>\n",
       "      <th>4</th>\n",
       "      <td>EZYV05</td>\n",
       "      <td>Africa</td>\n",
       "      <td>Master's</td>\n",
       "      <td>Y</td>\n",
       "      <td>N</td>\n",
       "      <td>1082</td>\n",
       "      <td>2005</td>\n",
       "      <td>South</td>\n",
       "      <td>149907.3900</td>\n",
       "      <td>Year</td>\n",
       "      <td>Y</td>\n",
       "      <td>Certified</td>\n",
       "    </tr>\n",
       "    <tr>\n",
       "      <th>...</th>\n",
       "      <td>...</td>\n",
       "      <td>...</td>\n",
       "      <td>...</td>\n",
       "      <td>...</td>\n",
       "      <td>...</td>\n",
       "      <td>...</td>\n",
       "      <td>...</td>\n",
       "      <td>...</td>\n",
       "      <td>...</td>\n",
       "      <td>...</td>\n",
       "      <td>...</td>\n",
       "      <td>...</td>\n",
       "    </tr>\n",
       "    <tr>\n",
       "      <th>25475</th>\n",
       "      <td>EZYV25476</td>\n",
       "      <td>Asia</td>\n",
       "      <td>Bachelor's</td>\n",
       "      <td>Y</td>\n",
       "      <td>Y</td>\n",
       "      <td>2601</td>\n",
       "      <td>2008</td>\n",
       "      <td>South</td>\n",
       "      <td>77092.5700</td>\n",
       "      <td>Year</td>\n",
       "      <td>Y</td>\n",
       "      <td>Certified</td>\n",
       "    </tr>\n",
       "    <tr>\n",
       "      <th>25476</th>\n",
       "      <td>EZYV25477</td>\n",
       "      <td>Asia</td>\n",
       "      <td>High School</td>\n",
       "      <td>Y</td>\n",
       "      <td>N</td>\n",
       "      <td>3274</td>\n",
       "      <td>2006</td>\n",
       "      <td>Northeast</td>\n",
       "      <td>279174.7900</td>\n",
       "      <td>Year</td>\n",
       "      <td>Y</td>\n",
       "      <td>Certified</td>\n",
       "    </tr>\n",
       "    <tr>\n",
       "      <th>25477</th>\n",
       "      <td>EZYV25478</td>\n",
       "      <td>Asia</td>\n",
       "      <td>Master's</td>\n",
       "      <td>Y</td>\n",
       "      <td>N</td>\n",
       "      <td>1121</td>\n",
       "      <td>1910</td>\n",
       "      <td>South</td>\n",
       "      <td>146298.8500</td>\n",
       "      <td>Year</td>\n",
       "      <td>N</td>\n",
       "      <td>Certified</td>\n",
       "    </tr>\n",
       "    <tr>\n",
       "      <th>25478</th>\n",
       "      <td>EZYV25479</td>\n",
       "      <td>Asia</td>\n",
       "      <td>Master's</td>\n",
       "      <td>Y</td>\n",
       "      <td>Y</td>\n",
       "      <td>1918</td>\n",
       "      <td>1887</td>\n",
       "      <td>West</td>\n",
       "      <td>86154.7700</td>\n",
       "      <td>Year</td>\n",
       "      <td>Y</td>\n",
       "      <td>Certified</td>\n",
       "    </tr>\n",
       "    <tr>\n",
       "      <th>25479</th>\n",
       "      <td>EZYV25480</td>\n",
       "      <td>Asia</td>\n",
       "      <td>Bachelor's</td>\n",
       "      <td>Y</td>\n",
       "      <td>N</td>\n",
       "      <td>3195</td>\n",
       "      <td>1960</td>\n",
       "      <td>Midwest</td>\n",
       "      <td>70876.9100</td>\n",
       "      <td>Year</td>\n",
       "      <td>Y</td>\n",
       "      <td>Certified</td>\n",
       "    </tr>\n",
       "  </tbody>\n",
       "</table>\n",
       "<p>25480 rows × 12 columns</p>\n",
       "</div>"
      ],
      "text/plain": [
       "         case_id continent education_of_employee has_job_experience  \\\n",
       "0         EZYV01      Asia           High School                  N   \n",
       "1         EZYV02      Asia              Master's                  Y   \n",
       "2         EZYV03      Asia            Bachelor's                  N   \n",
       "3         EZYV04      Asia            Bachelor's                  N   \n",
       "4         EZYV05    Africa              Master's                  Y   \n",
       "...          ...       ...                   ...                ...   \n",
       "25475  EZYV25476      Asia            Bachelor's                  Y   \n",
       "25476  EZYV25477      Asia           High School                  Y   \n",
       "25477  EZYV25478      Asia              Master's                  Y   \n",
       "25478  EZYV25479      Asia              Master's                  Y   \n",
       "25479  EZYV25480      Asia            Bachelor's                  Y   \n",
       "\n",
       "      requires_job_training  no_of_employees  yr_of_estab  \\\n",
       "0                         N            14513         2007   \n",
       "1                         N             2412         2002   \n",
       "2                         Y            44444         2008   \n",
       "3                         N               98         1897   \n",
       "4                         N             1082         2005   \n",
       "...                     ...              ...          ...   \n",
       "25475                     Y             2601         2008   \n",
       "25476                     N             3274         2006   \n",
       "25477                     N             1121         1910   \n",
       "25478                     Y             1918         1887   \n",
       "25479                     N             3195         1960   \n",
       "\n",
       "      region_of_employment  prevailing_wage unit_of_wage full_time_position  \\\n",
       "0                     West         592.2029         Hour                  Y   \n",
       "1                Northeast       83425.6500         Year                  Y   \n",
       "2                     West      122996.8600         Year                  Y   \n",
       "3                     West       83434.0300         Year                  Y   \n",
       "4                    South      149907.3900         Year                  Y   \n",
       "...                    ...              ...          ...                ...   \n",
       "25475                South       77092.5700         Year                  Y   \n",
       "25476            Northeast      279174.7900         Year                  Y   \n",
       "25477                South      146298.8500         Year                  N   \n",
       "25478                 West       86154.7700         Year                  Y   \n",
       "25479              Midwest       70876.9100         Year                  Y   \n",
       "\n",
       "      case_status  \n",
       "0          Denied  \n",
       "1       Certified  \n",
       "2          Denied  \n",
       "3          Denied  \n",
       "4       Certified  \n",
       "...           ...  \n",
       "25475   Certified  \n",
       "25476   Certified  \n",
       "25477   Certified  \n",
       "25478   Certified  \n",
       "25479   Certified  \n",
       "\n",
       "[25480 rows x 12 columns]"
      ]
     },
     "execution_count": 23,
     "metadata": {},
     "output_type": "execute_result"
    }
   ],
   "source": [
    "df=pd.read_csv(\"EasyVisa.csv\")\n",
    "df"
   ]
  },
  {
   "cell_type": "code",
   "execution_count": 24,
   "id": "c487f8e4",
   "metadata": {},
   "outputs": [
    {
     "data": {
      "text/plain": [
       "case_id                  0\n",
       "continent                0\n",
       "education_of_employee    0\n",
       "has_job_experience       0\n",
       "requires_job_training    0\n",
       "no_of_employees          0\n",
       "yr_of_estab              0\n",
       "region_of_employment     0\n",
       "prevailing_wage          0\n",
       "unit_of_wage             0\n",
       "full_time_position       0\n",
       "case_status              0\n",
       "dtype: int64"
      ]
     },
     "execution_count": 24,
     "metadata": {},
     "output_type": "execute_result"
    }
   ],
   "source": [
    "df.isnull().sum()"
   ]
  },
  {
   "cell_type": "code",
   "execution_count": 25,
   "id": "32a3dd36",
   "metadata": {},
   "outputs": [
    {
     "name": "stdout",
     "output_type": "stream",
     "text": [
      "<class 'pandas.core.frame.DataFrame'>\n",
      "RangeIndex: 25480 entries, 0 to 25479\n",
      "Data columns (total 12 columns):\n",
      " #   Column                 Non-Null Count  Dtype  \n",
      "---  ------                 --------------  -----  \n",
      " 0   case_id                25480 non-null  object \n",
      " 1   continent              25480 non-null  object \n",
      " 2   education_of_employee  25480 non-null  object \n",
      " 3   has_job_experience     25480 non-null  object \n",
      " 4   requires_job_training  25480 non-null  object \n",
      " 5   no_of_employees        25480 non-null  int64  \n",
      " 6   yr_of_estab            25480 non-null  int64  \n",
      " 7   region_of_employment   25480 non-null  object \n",
      " 8   prevailing_wage        25480 non-null  float64\n",
      " 9   unit_of_wage           25480 non-null  object \n",
      " 10  full_time_position     25480 non-null  object \n",
      " 11  case_status            25480 non-null  object \n",
      "dtypes: float64(1), int64(2), object(9)\n",
      "memory usage: 2.3+ MB\n"
     ]
    }
   ],
   "source": [
    "df.info()"
   ]
  },
  {
   "cell_type": "code",
   "execution_count": 26,
   "id": "fd5acad7",
   "metadata": {},
   "outputs": [],
   "source": [
    "# importing date class from datetime module\n",
    "from datetime import date\n",
    "\n",
    "# creating the date object of today's date\n",
    "todays_date = date.today()\n",
    "current_year= todays_date.year"
   ]
  },
  {
   "cell_type": "code",
   "execution_count": 27,
   "id": "61ca8b98",
   "metadata": {},
   "outputs": [
    {
     "data": {
      "text/html": [
       "<div>\n",
       "<style scoped>\n",
       "    .dataframe tbody tr th:only-of-type {\n",
       "        vertical-align: middle;\n",
       "    }\n",
       "\n",
       "    .dataframe tbody tr th {\n",
       "        vertical-align: top;\n",
       "    }\n",
       "\n",
       "    .dataframe thead th {\n",
       "        text-align: right;\n",
       "    }\n",
       "</style>\n",
       "<table border=\"1\" class=\"dataframe\">\n",
       "  <thead>\n",
       "    <tr style=\"text-align: right;\">\n",
       "      <th></th>\n",
       "      <th>no_of_employees</th>\n",
       "      <th>yr_of_estab</th>\n",
       "      <th>prevailing_wage</th>\n",
       "    </tr>\n",
       "  </thead>\n",
       "  <tbody>\n",
       "    <tr>\n",
       "      <th>count</th>\n",
       "      <td>25480.000000</td>\n",
       "      <td>25480.000000</td>\n",
       "      <td>25480.000000</td>\n",
       "    </tr>\n",
       "    <tr>\n",
       "      <th>mean</th>\n",
       "      <td>5667.043210</td>\n",
       "      <td>1979.409929</td>\n",
       "      <td>74455.814592</td>\n",
       "    </tr>\n",
       "    <tr>\n",
       "      <th>std</th>\n",
       "      <td>22877.928848</td>\n",
       "      <td>42.366929</td>\n",
       "      <td>52815.942327</td>\n",
       "    </tr>\n",
       "    <tr>\n",
       "      <th>min</th>\n",
       "      <td>-26.000000</td>\n",
       "      <td>1800.000000</td>\n",
       "      <td>2.136700</td>\n",
       "    </tr>\n",
       "    <tr>\n",
       "      <th>25%</th>\n",
       "      <td>1022.000000</td>\n",
       "      <td>1976.000000</td>\n",
       "      <td>34015.480000</td>\n",
       "    </tr>\n",
       "    <tr>\n",
       "      <th>50%</th>\n",
       "      <td>2109.000000</td>\n",
       "      <td>1997.000000</td>\n",
       "      <td>70308.210000</td>\n",
       "    </tr>\n",
       "    <tr>\n",
       "      <th>75%</th>\n",
       "      <td>3504.000000</td>\n",
       "      <td>2005.000000</td>\n",
       "      <td>107735.512500</td>\n",
       "    </tr>\n",
       "    <tr>\n",
       "      <th>max</th>\n",
       "      <td>602069.000000</td>\n",
       "      <td>2016.000000</td>\n",
       "      <td>319210.270000</td>\n",
       "    </tr>\n",
       "  </tbody>\n",
       "</table>\n",
       "</div>"
      ],
      "text/plain": [
       "       no_of_employees   yr_of_estab  prevailing_wage\n",
       "count     25480.000000  25480.000000     25480.000000\n",
       "mean       5667.043210   1979.409929     74455.814592\n",
       "std       22877.928848     42.366929     52815.942327\n",
       "min         -26.000000   1800.000000         2.136700\n",
       "25%        1022.000000   1976.000000     34015.480000\n",
       "50%        2109.000000   1997.000000     70308.210000\n",
       "75%        3504.000000   2005.000000    107735.512500\n",
       "max      602069.000000   2016.000000    319210.270000"
      ]
     },
     "execution_count": 27,
     "metadata": {},
     "output_type": "execute_result"
    }
   ],
   "source": [
    "df.describe()"
   ]
  },
  {
   "cell_type": "code",
   "execution_count": 28,
   "id": "865638df",
   "metadata": {},
   "outputs": [
    {
     "data": {
      "text/plain": [
       "['case_id unique values:  25480',\n",
       " 'continent unique values:  6',\n",
       " 'education_of_employee unique values:  4',\n",
       " 'has_job_experience unique values:  2',\n",
       " 'requires_job_training unique values:  2',\n",
       " 'no_of_employees unique values:  7105',\n",
       " 'yr_of_estab unique values:  199',\n",
       " 'region_of_employment unique values:  5',\n",
       " 'prevailing_wage unique values:  25454',\n",
       " 'unit_of_wage unique values:  4',\n",
       " 'full_time_position unique values:  2',\n",
       " 'case_status unique values:  2']"
      ]
     },
     "execution_count": 28,
     "metadata": {},
     "output_type": "execute_result"
    }
   ],
   "source": [
    "[f\"{column} unique values:  {df[column].nunique()}\" for column in df.columns]"
   ]
  },
  {
   "cell_type": "code",
   "execution_count": 29,
   "id": "d1a77e10",
   "metadata": {},
   "outputs": [],
   "source": [
    "# importing date class from datetime module\n",
    "from datetime import date\n",
    "\n",
    "# creating the date object of today's date\n",
    "todays_date = date.today()\n",
    "current_year= todays_date.year"
   ]
  },
  {
   "cell_type": "code",
   "execution_count": 30,
   "id": "aaf4479c",
   "metadata": {},
   "outputs": [],
   "source": [
    "df['company_age'] = current_year-df['yr_of_estab']\n",
    "df.drop('yr_of_estab', inplace=True, axis=1)"
   ]
  },
  {
   "cell_type": "code",
   "execution_count": 31,
   "id": "5eff296b",
   "metadata": {},
   "outputs": [
    {
     "data": {
      "text/html": [
       "<div>\n",
       "<style scoped>\n",
       "    .dataframe tbody tr th:only-of-type {\n",
       "        vertical-align: middle;\n",
       "    }\n",
       "\n",
       "    .dataframe tbody tr th {\n",
       "        vertical-align: top;\n",
       "    }\n",
       "\n",
       "    .dataframe thead th {\n",
       "        text-align: right;\n",
       "    }\n",
       "</style>\n",
       "<table border=\"1\" class=\"dataframe\">\n",
       "  <thead>\n",
       "    <tr style=\"text-align: right;\">\n",
       "      <th></th>\n",
       "      <th>case_id</th>\n",
       "      <th>continent</th>\n",
       "      <th>education_of_employee</th>\n",
       "      <th>has_job_experience</th>\n",
       "      <th>requires_job_training</th>\n",
       "      <th>no_of_employees</th>\n",
       "      <th>region_of_employment</th>\n",
       "      <th>prevailing_wage</th>\n",
       "      <th>unit_of_wage</th>\n",
       "      <th>full_time_position</th>\n",
       "      <th>case_status</th>\n",
       "      <th>company_age</th>\n",
       "    </tr>\n",
       "  </thead>\n",
       "  <tbody>\n",
       "    <tr>\n",
       "      <th>0</th>\n",
       "      <td>EZYV01</td>\n",
       "      <td>Asia</td>\n",
       "      <td>High School</td>\n",
       "      <td>0</td>\n",
       "      <td>0</td>\n",
       "      <td>14513</td>\n",
       "      <td>West</td>\n",
       "      <td>592.2029</td>\n",
       "      <td>Hour</td>\n",
       "      <td>1</td>\n",
       "      <td>1</td>\n",
       "      <td>18</td>\n",
       "    </tr>\n",
       "    <tr>\n",
       "      <th>1</th>\n",
       "      <td>EZYV02</td>\n",
       "      <td>Asia</td>\n",
       "      <td>Master's</td>\n",
       "      <td>1</td>\n",
       "      <td>0</td>\n",
       "      <td>2412</td>\n",
       "      <td>Northeast</td>\n",
       "      <td>83425.6500</td>\n",
       "      <td>Year</td>\n",
       "      <td>1</td>\n",
       "      <td>0</td>\n",
       "      <td>23</td>\n",
       "    </tr>\n",
       "    <tr>\n",
       "      <th>2</th>\n",
       "      <td>EZYV03</td>\n",
       "      <td>Asia</td>\n",
       "      <td>Bachelor's</td>\n",
       "      <td>0</td>\n",
       "      <td>1</td>\n",
       "      <td>44444</td>\n",
       "      <td>West</td>\n",
       "      <td>122996.8600</td>\n",
       "      <td>Year</td>\n",
       "      <td>1</td>\n",
       "      <td>1</td>\n",
       "      <td>17</td>\n",
       "    </tr>\n",
       "    <tr>\n",
       "      <th>3</th>\n",
       "      <td>EZYV04</td>\n",
       "      <td>Asia</td>\n",
       "      <td>Bachelor's</td>\n",
       "      <td>0</td>\n",
       "      <td>0</td>\n",
       "      <td>98</td>\n",
       "      <td>West</td>\n",
       "      <td>83434.0300</td>\n",
       "      <td>Year</td>\n",
       "      <td>1</td>\n",
       "      <td>1</td>\n",
       "      <td>128</td>\n",
       "    </tr>\n",
       "    <tr>\n",
       "      <th>4</th>\n",
       "      <td>EZYV05</td>\n",
       "      <td>Africa</td>\n",
       "      <td>Master's</td>\n",
       "      <td>1</td>\n",
       "      <td>0</td>\n",
       "      <td>1082</td>\n",
       "      <td>South</td>\n",
       "      <td>149907.3900</td>\n",
       "      <td>Year</td>\n",
       "      <td>1</td>\n",
       "      <td>0</td>\n",
       "      <td>20</td>\n",
       "    </tr>\n",
       "  </tbody>\n",
       "</table>\n",
       "</div>"
      ],
      "text/plain": [
       "  case_id continent education_of_employee  has_job_experience  \\\n",
       "0  EZYV01      Asia           High School                   0   \n",
       "1  EZYV02      Asia              Master's                   1   \n",
       "2  EZYV03      Asia            Bachelor's                   0   \n",
       "3  EZYV04      Asia            Bachelor's                   0   \n",
       "4  EZYV05    Africa              Master's                   1   \n",
       "\n",
       "   requires_job_training  no_of_employees region_of_employment  \\\n",
       "0                      0            14513                 West   \n",
       "1                      0             2412            Northeast   \n",
       "2                      1            44444                 West   \n",
       "3                      0               98                 West   \n",
       "4                      0             1082                South   \n",
       "\n",
       "   prevailing_wage unit_of_wage  full_time_position  case_status  company_age  \n",
       "0         592.2029         Hour                   1            1           18  \n",
       "1       83425.6500         Year                   1            0           23  \n",
       "2      122996.8600         Year                   1            1           17  \n",
       "3       83434.0300         Year                   1            1          128  \n",
       "4      149907.3900         Year                   1            0           20  "
      ]
     },
     "execution_count": 31,
     "metadata": {},
     "output_type": "execute_result"
    }
   ],
   "source": [
    "le=LabelEncoder()\n",
    "df['full_time_position']=le.fit_transform(df['full_time_position'])\n",
    "df['case_status']=le.fit_transform(df['case_status'])\n",
    "df['has_job_experience']=le.fit_transform(df['has_job_experience'])\n",
    "df['requires_job_training']=le.fit_transform(df['requires_job_training'])\n",
    "df.head()"
   ]
  },
  {
   "cell_type": "code",
   "execution_count": 32,
   "id": "3b99bcad",
   "metadata": {},
   "outputs": [
    {
     "data": {
      "text/plain": [
       "<Axes: xlabel='case_status', ylabel='full_time_position'>"
      ]
     },
     "execution_count": 32,
     "metadata": {},
     "output_type": "execute_result"
    },
    {
     "data": {
      "image/png": "[encoded data removed]",
      "text/plain": [
       "<Figure size 640x480 with 2 Axes>"
      ]
     },
     "metadata": {},
     "output_type": "display_data"
    }
   ],
   "source": [
    "sns.heatmap(pd.crosstab(df['full_time_position'],df['case_status'])) \n",
    "# issey hume ye pata chla k jo log full time positin k liye apply kar rhe hai unke maximum chance hai accept hone ke"
   ]
  },
  {
   "cell_type": "code",
   "execution_count": 33,
   "id": "0ae5cb15",
   "metadata": {},
   "outputs": [
    {
     "data": {
      "text/plain": [
       "case_status\n",
       "0    17018\n",
       "1     8462\n",
       "Name: count, dtype: int64"
      ]
     },
     "execution_count": 33,
     "metadata": {},
     "output_type": "execute_result"
    }
   ],
   "source": [
    "#Here we check that data is imbalanced or not it means we are checking that the output columns have very fluctuating \n",
    "#values or not because if the data is train on a labelleb in which one response occuring lot of times and another one is occuring few times so this cause unwanted result or bad accuracy \n",
    "df['case_status'].value_counts()"
   ]
  },
  {
   "cell_type": "code",
   "execution_count": 34,
   "id": "fe2f48d8",
   "metadata": {},
   "outputs": [
    {
     "name": "stdout",
     "output_type": "stream",
     "text": [
      "case_status\n",
      "0    66.789639\n",
      "1    33.210361\n",
      "Name: proportion, dtype: float64\n"
     ]
    }
   ],
   "source": [
    "# Check the percentage of each class\n",
    "print(df['case_status'].value_counts(normalize=True) * 100)"
   ]
  },
  {
   "cell_type": "code",
   "execution_count": 35,
   "id": "91166142",
   "metadata": {},
   "outputs": [
    {
     "data": {
      "image/png": "[encoded data removed]",
      "text/plain": [
       "<Figure size 640x480 with 1 Axes>"
      ]
     },
     "metadata": {},
     "output_type": "display_data"
    }
   ],
   "source": [
    "# Create a count plot using seaborn\n",
    "sns.countplot(x='case_status', data=df)\n",
    "plt.title('Distribution of Target Classes')\n",
    "plt.show()"
   ]
  },
  {
   "cell_type": "code",
   "execution_count": 36,
   "id": "3d361bf9",
   "metadata": {},
   "outputs": [
    {
     "name": "stdout",
     "output_type": "stream",
     "text": [
      "Har continent se aayi applications ki ginti:\n",
      "continent\n",
      "Asia             16861\n",
      "Europe            3732\n",
      "North America     3292\n",
      "South America      852\n",
      "Africa             551\n",
      "Oceania            192\n",
      "Name: count, dtype: int64\n"
     ]
    },
    {
     "name": "stderr",
     "output_type": "stream",
     "text": [
      "C:\\Users\\anura\\AppData\\Local\\Temp\\ipykernel_3240\\563437623.py:10: FutureWarning: \n",
      "\n",
      "Passing `palette` without assigning `hue` is deprecated and will be removed in v0.14.0. Assign the `x` variable to `hue` and set `legend=False` for the same effect.\n",
      "\n",
      "  sns.barplot(x=continent_counts.index, y=continent_counts.values, palette='viridis')\n"
     ]
    },
    {
     "data": {
      "image/png": "[encoded data removed]",
      "text/plain": [
       "<Figure size 1200x700 with 1 Axes>"
      ]
     },
     "metadata": {},
     "output_type": "display_data"
    }
   ],
   "source": [
    "\n",
    "df = pd.read_csv('EasyVisa.csv')\n",
    "\n",
    "# Har continent se kitni applications hain, woh count karna\n",
    "continent_counts = df['continent'].value_counts()\n",
    "print(\"Har continent se aayi applications ki ginti:\")\n",
    "print(continent_counts)\n",
    "\n",
    "# Bar Chart\n",
    "plt.figure(figsize=(12, 7))\n",
    "sns.barplot(x=continent_counts.index, y=continent_counts.values, palette='viridis')\n",
    "plt.xlabel('Continent')\n",
    "plt.ylabel('no. of applications')\n",
    "plt.title('Visa application according to continen')\n",
    "plt.xticks(rotation=45)\n",
    "plt.show()"
   ]
  },
  {
   "cell_type": "code",
   "execution_count": 37,
   "id": "55a3ca29",
   "metadata": {},
   "outputs": [
    {
     "name": "stdout",
     "output_type": "stream",
     "text": [
      "\n",
      "Continent ke hisab se Visa Status (Certified vs Denied):\n",
      "case_status    Certified  Denied\n",
      "continent                       \n",
      "Africa               397     154\n",
      "Asia               11012    5849\n",
      "Europe              2957     775\n",
      "North America       2037    1255\n",
      "Oceania              122      70\n",
      "South America        493     359\n"
     ]
    },
    {
     "data": {
      "image/png": "[encoded data removed]",
      "text/plain": [
       "<Figure size 1400x800 with 1 Axes>"
      ]
     },
     "metadata": {},
     "output_type": "display_data"
    }
   ],
   "source": [
    "# Continent aur case_status ke beech kya relation hai, woh dekhna\n",
    "continent_status_counts = df.groupby('continent')['case_status'].value_counts().unstack().fillna(0)\n",
    "\n",
    "print(\"\\nContinent ke hisab se Visa Status (Certified vs Denied):\")\n",
    "print(continent_status_counts)\n",
    "\n",
    "\n",
    "# Iska ek stacked bar chart banana\n",
    "continent_status_counts.plot(kind='bar', stacked=True, figsize=(14, 8), colormap='coolwarm')\n",
    "plt.xlabel('Continent')\n",
    "plt.ylabel('Applications ki Ginti')\n",
    "plt.title('Continent ke Hisab se Visa ka Status')\n",
    "plt.xticks(rotation=45)\n",
    "plt.legend(title='Case Status')\n",
    "plt.show()"
   ]
  },
  {
   "cell_type": "code",
   "execution_count": 38,
   "id": "cac7c5e0",
   "metadata": {},
   "outputs": [
    {
     "data": {
      "text/plain": [
       "education_of_employee  case_status\n",
       "Bachelor's             Certified      0.614816\n",
       "                       Denied         0.385184\n",
       "Doctorate              Certified      0.845070\n",
       "                       Denied         0.154930\n",
       "High School            Denied         0.704803\n",
       "                       Certified      0.295197\n",
       "Master's               Certified      0.794599\n",
       "                       Denied         0.205401\n",
       "Name: proportion, dtype: float64"
      ]
     },
     "execution_count": 38,
     "metadata": {},
     "output_type": "execute_result"
    }
   ],
   "source": [
    "# Education ke hisaab se success rate nikalna\n",
    "df[df['continent'] == 'Asia'].groupby('education_of_employee')['case_status'].value_counts(normalize=True)"
   ]
  },
  {
   "cell_type": "code",
   "execution_count": 39,
   "id": "4cb7b6ac",
   "metadata": {},
   "outputs": [
    {
     "data": {
      "image/png": "[encoded data removed]",
      "text/plain": [
       "<Figure size 1309.62x500 with 2 Axes>"
      ]
     },
     "metadata": {},
     "output_type": "display_data"
    }
   ],
   "source": [
    "sns.catplot(x=\"education_of_employee\",hue=\"case_status\",col=\"has_job_experience\",data=df,kind=\"count\",height=5,aspect=1.2)\n",
    "plt.show()"
   ]
  },
  {
   "cell_type": "code",
   "execution_count": 40,
   "id": "5c37ef92",
   "metadata": {},
   "outputs": [],
   "source": [
    "\n",
    "# Now split into X and y\n",
    "X = df.drop('case_status', axis=1)\n",
    "y = df['case_status']\n",
    "\n",
    "# ...existing code..."
   ]
  },
  {
   "cell_type": "code",
   "execution_count": 41,
   "id": "c39d3e52",
   "metadata": {},
   "outputs": [
    {
     "data": {
      "text/plain": [
       "3"
      ]
     },
     "execution_count": 41,
     "metadata": {},
     "output_type": "execute_result"
    }
   ],
   "source": [
    "num_feature=[feature for feature in df.columns if df[feature].dtype!='O' ]\n",
    "len(num_feature)"
   ]
  },
  {
   "cell_type": "code",
   "execution_count": 42,
   "id": "1aaf6c84",
   "metadata": {},
   "outputs": [
    {
     "ename": "KeyError",
     "evalue": "'company_age'",
     "output_type": "error",
     "traceback": [
      "\u001b[1;31m---------------------------------------------------------------------------\u001b[0m",
      "\u001b[1;31mKeyError\u001b[0m                                  Traceback (most recent call last)",
      "File \u001b[1;32me:\\anacondA\\envs\\vehicle\\lib\\site-packages\\pandas\\core\\indexes\\base.py:3812\u001b[0m, in \u001b[0;36mIndex.get_loc\u001b[1;34m(self, key)\u001b[0m\n\u001b[0;32m   3811\u001b[0m \u001b[38;5;28;01mtry\u001b[39;00m:\n\u001b[1;32m-> 3812\u001b[0m     \u001b[38;5;28;01mreturn\u001b[39;00m \u001b[38;5;28;43mself\u001b[39;49m\u001b[38;5;241;43m.\u001b[39;49m\u001b[43m_engine\u001b[49m\u001b[38;5;241;43m.\u001b[39;49m\u001b[43mget_loc\u001b[49m\u001b[43m(\u001b[49m\u001b[43mcasted_key\u001b[49m\u001b[43m)\u001b[49m\n\u001b[0;32m   3813\u001b[0m \u001b[38;5;28;01mexcept\u001b[39;00m \u001b[38;5;167;01mKeyError\u001b[39;00m \u001b[38;5;28;01mas\u001b[39;00m err:\n",
      "File \u001b[1;32mpandas/_libs/index.pyx:167\u001b[0m, in \u001b[0;36mpandas._libs.index.IndexEngine.get_loc\u001b[1;34m()\u001b[0m\n",
      "File \u001b[1;32mpandas/_libs/index.pyx:196\u001b[0m, in \u001b[0;36mpandas._libs.index.IndexEngine.get_loc\u001b[1;34m()\u001b[0m\n",
      "File \u001b[1;32mpandas/_libs/hashtable_class_helper.pxi:7088\u001b[0m, in \u001b[0;36mpandas._libs.hashtable.PyObjectHashTable.get_item\u001b[1;34m()\u001b[0m\n",
      "File \u001b[1;32mpandas/_libs/hashtable_class_helper.pxi:7096\u001b[0m, in \u001b[0;36mpandas._libs.hashtable.PyObjectHashTable.get_item\u001b[1;34m()\u001b[0m\n",
      "\u001b[1;31mKeyError\u001b[0m: 'company_age'",
      "\nThe above exception was the direct cause of the following exception:\n",
      "\u001b[1;31mKeyError\u001b[0m                                  Traceback (most recent call last)",
      "Cell \u001b[1;32mIn[42], line 5\u001b[0m\n\u001b[0;32m      3\u001b[0m \u001b[38;5;28;01mfor\u001b[39;00m i, col \u001b[38;5;129;01min\u001b[39;00m \u001b[38;5;28menumerate\u001b[39m([\u001b[38;5;124m'\u001b[39m\u001b[38;5;124mno_of_employees\u001b[39m\u001b[38;5;124m'\u001b[39m,\u001b[38;5;124m'\u001b[39m\u001b[38;5;124mprevailing_wage\u001b[39m\u001b[38;5;124m'\u001b[39m,\u001b[38;5;124m'\u001b[39m\u001b[38;5;124mcompany_age\u001b[39m\u001b[38;5;124m'\u001b[39m]):\n\u001b[0;32m      4\u001b[0m     plt\u001b[38;5;241m.\u001b[39msubplot(\u001b[38;5;241m2\u001b[39m, \u001b[38;5;241m2\u001b[39m, i\u001b[38;5;241m+\u001b[39m\u001b[38;5;241m1\u001b[39m)\n\u001b[1;32m----> 5\u001b[0m     sns\u001b[38;5;241m.\u001b[39mhistplot(x\u001b[38;5;241m=\u001b[39m\u001b[43mX\u001b[49m\u001b[43m[\u001b[49m\u001b[43mcol\u001b[49m\u001b[43m]\u001b[49m, color\u001b[38;5;241m=\u001b[39m\u001b[38;5;124m'\u001b[39m\u001b[38;5;124mindianred\u001b[39m\u001b[38;5;124m'\u001b[39m)\n\u001b[0;32m      6\u001b[0m     plt\u001b[38;5;241m.\u001b[39mxlabel(col)\n\u001b[0;32m      7\u001b[0m     plt\u001b[38;5;241m.\u001b[39mtight_layout()\n",
      "File \u001b[1;32me:\\anacondA\\envs\\vehicle\\lib\\site-packages\\pandas\\core\\frame.py:4107\u001b[0m, in \u001b[0;36mDataFrame.__getitem__\u001b[1;34m(self, key)\u001b[0m\n\u001b[0;32m   4105\u001b[0m \u001b[38;5;28;01mif\u001b[39;00m \u001b[38;5;28mself\u001b[39m\u001b[38;5;241m.\u001b[39mcolumns\u001b[38;5;241m.\u001b[39mnlevels \u001b[38;5;241m>\u001b[39m \u001b[38;5;241m1\u001b[39m:\n\u001b[0;32m   4106\u001b[0m     \u001b[38;5;28;01mreturn\u001b[39;00m \u001b[38;5;28mself\u001b[39m\u001b[38;5;241m.\u001b[39m_getitem_multilevel(key)\n\u001b[1;32m-> 4107\u001b[0m indexer \u001b[38;5;241m=\u001b[39m \u001b[38;5;28;43mself\u001b[39;49m\u001b[38;5;241;43m.\u001b[39;49m\u001b[43mcolumns\u001b[49m\u001b[38;5;241;43m.\u001b[39;49m\u001b[43mget_loc\u001b[49m\u001b[43m(\u001b[49m\u001b[43mkey\u001b[49m\u001b[43m)\u001b[49m\n\u001b[0;32m   4108\u001b[0m \u001b[38;5;28;01mif\u001b[39;00m is_integer(indexer):\n\u001b[0;32m   4109\u001b[0m     indexer \u001b[38;5;241m=\u001b[39m [indexer]\n",
      "File \u001b[1;32me:\\anacondA\\envs\\vehicle\\lib\\site-packages\\pandas\\core\\indexes\\base.py:3819\u001b[0m, in \u001b[0;36mIndex.get_loc\u001b[1;34m(self, key)\u001b[0m\n\u001b[0;32m   3814\u001b[0m     \u001b[38;5;28;01mif\u001b[39;00m \u001b[38;5;28misinstance\u001b[39m(casted_key, \u001b[38;5;28mslice\u001b[39m) \u001b[38;5;129;01mor\u001b[39;00m (\n\u001b[0;32m   3815\u001b[0m         \u001b[38;5;28misinstance\u001b[39m(casted_key, abc\u001b[38;5;241m.\u001b[39mIterable)\n\u001b[0;32m   3816\u001b[0m         \u001b[38;5;129;01mand\u001b[39;00m \u001b[38;5;28many\u001b[39m(\u001b[38;5;28misinstance\u001b[39m(x, \u001b[38;5;28mslice\u001b[39m) \u001b[38;5;28;01mfor\u001b[39;00m x \u001b[38;5;129;01min\u001b[39;00m casted_key)\n\u001b[0;32m   3817\u001b[0m     ):\n\u001b[0;32m   3818\u001b[0m         \u001b[38;5;28;01mraise\u001b[39;00m InvalidIndexError(key)\n\u001b[1;32m-> 3819\u001b[0m     \u001b[38;5;28;01mraise\u001b[39;00m \u001b[38;5;167;01mKeyError\u001b[39;00m(key) \u001b[38;5;28;01mfrom\u001b[39;00m\u001b[38;5;250m \u001b[39m\u001b[38;5;21;01merr\u001b[39;00m\n\u001b[0;32m   3820\u001b[0m \u001b[38;5;28;01mexcept\u001b[39;00m \u001b[38;5;167;01mTypeError\u001b[39;00m:\n\u001b[0;32m   3821\u001b[0m     \u001b[38;5;66;03m# If we have a listlike key, _check_indexing_error will raise\u001b[39;00m\n\u001b[0;32m   3822\u001b[0m     \u001b[38;5;66;03m#  InvalidIndexError. Otherwise we fall through and re-raise\u001b[39;00m\n\u001b[0;32m   3823\u001b[0m     \u001b[38;5;66;03m#  the TypeError.\u001b[39;00m\n\u001b[0;32m   3824\u001b[0m     \u001b[38;5;28mself\u001b[39m\u001b[38;5;241m.\u001b[39m_check_indexing_error(key)\n",
      "\u001b[1;31mKeyError\u001b[0m: 'company_age'"
     ]
    },
    {
     "data": {
      "image/png": "[encoded data removed]",
      "text/plain": [
       "<Figure size 1200x600 with 3 Axes>"
      ]
     },
     "metadata": {},
     "output_type": "display_data"
    }
   ],
   "source": [
    "# distribution of data before scaling\n",
    "plt.figure(figsize=(12, 6))\n",
    "for i, col in enumerate(['no_of_employees','prevailing_wage','company_age']):\n",
    "    plt.subplot(2, 2, i+1)\n",
    "    sns.histplot(x=X[col], color='indianred')\n",
    "    plt.xlabel(col)\n",
    "    plt.tight_layout()"
   ]
  },
  {
   "cell_type": "code",
   "execution_count": null,
   "id": "8e17d978",
   "metadata": {},
   "outputs": [
    {
     "data": {
      "text/html": [
       "<div>\n",
       "<style scoped>\n",
       "    .dataframe tbody tr th:only-of-type {\n",
       "        vertical-align: middle;\n",
       "    }\n",
       "\n",
       "    .dataframe tbody tr th {\n",
       "        vertical-align: top;\n",
       "    }\n",
       "\n",
       "    .dataframe thead th {\n",
       "        text-align: right;\n",
       "    }\n",
       "</style>\n",
       "<table border=\"1\" class=\"dataframe\">\n",
       "  <thead>\n",
       "    <tr style=\"text-align: right;\">\n",
       "      <th></th>\n",
       "      <th>no_of_employees</th>\n",
       "      <th>prevailing_wage</th>\n",
       "      <th>company_age</th>\n",
       "    </tr>\n",
       "  </thead>\n",
       "  <tbody>\n",
       "    <tr>\n",
       "      <th>0</th>\n",
       "      <td>14513</td>\n",
       "      <td>592.2029</td>\n",
       "      <td>18</td>\n",
       "    </tr>\n",
       "    <tr>\n",
       "      <th>1</th>\n",
       "      <td>2412</td>\n",
       "      <td>83425.6500</td>\n",
       "      <td>23</td>\n",
       "    </tr>\n",
       "    <tr>\n",
       "      <th>2</th>\n",
       "      <td>44444</td>\n",
       "      <td>122996.8600</td>\n",
       "      <td>17</td>\n",
       "    </tr>\n",
       "    <tr>\n",
       "      <th>3</th>\n",
       "      <td>98</td>\n",
       "      <td>83434.0300</td>\n",
       "      <td>128</td>\n",
       "    </tr>\n",
       "    <tr>\n",
       "      <th>4</th>\n",
       "      <td>1082</td>\n",
       "      <td>149907.3900</td>\n",
       "      <td>20</td>\n",
       "    </tr>\n",
       "  </tbody>\n",
       "</table>\n",
       "</div>"
      ],
      "text/plain": [
       "   no_of_employees  prevailing_wage  company_age\n",
       "0            14513         592.2029           18\n",
       "1             2412       83425.6500           23\n",
       "2            44444      122996.8600           17\n",
       "3               98       83434.0300          128\n",
       "4             1082      149907.3900           20"
      ]
     },
     "execution_count": 58,
     "metadata": {},
     "output_type": "execute_result"
    }
   ],
   "source": [
    "df[num_feature].head()"
   ]
  },
  {
   "cell_type": "code",
   "execution_count": null,
   "id": "76f483cf",
   "metadata": {},
   "outputs": [
    {
     "data": {
      "text/plain": [
       "no_of_employees    12.265260\n",
       "prevailing_wage     0.755776\n",
       "company_age         2.037301\n",
       "dtype: float64"
      ]
     },
     "execution_count": 59,
     "metadata": {},
     "output_type": "execute_result"
    }
   ],
   "source": [
    "X[num_feature].skew(axis=0,skipna=True)"
   ]
  },
  {
   "cell_type": "markdown",
   "id": "2edb5c4b",
   "metadata": {},
   "source": [
    "- Positiviely Skewed : company_age, no_of_employees.\n",
    "- We can handle outliers and then check the skewness."
   ]
  },
  {
   "cell_type": "markdown",
   "id": "c4417855",
   "metadata": {},
   "source": [
    "## Apply Power Transformer to Check if it can reduces the outliers"
   ]
  },
  {
   "cell_type": "code",
   "execution_count": null,
   "id": "6fd0a8ef",
   "metadata": {},
   "outputs": [],
   "source": [
    "from sklearn.preprocessing import PowerTransformer\n",
    "pt = PowerTransformer(method='yeo-johnson')\n",
    "transform_features =['company_age', 'no_of_employees']\n",
    "X_copy=pt.fit_transform(X[transform_features])"
   ]
  },
  {
   "cell_type": "code",
   "execution_count": null,
   "id": "6bf2b7f7",
   "metadata": {},
   "outputs": [],
   "source": [
    "X_copy = pd.DataFrame(X_copy, columns=transform_features)"
   ]
  },
  {
   "cell_type": "code",
   "execution_count": null,
   "id": "2a296267",
   "metadata": {},
   "outputs": [
    {
     "data": {
      "text/html": [
       "<div>\n",
       "<style scoped>\n",
       "    .dataframe tbody tr th:only-of-type {\n",
       "        vertical-align: middle;\n",
       "    }\n",
       "\n",
       "    .dataframe tbody tr th {\n",
       "        vertical-align: top;\n",
       "    }\n",
       "\n",
       "    .dataframe thead th {\n",
       "        text-align: right;\n",
       "    }\n",
       "</style>\n",
       "<table border=\"1\" class=\"dataframe\">\n",
       "  <thead>\n",
       "    <tr style=\"text-align: right;\">\n",
       "      <th></th>\n",
       "      <th>company_age</th>\n",
       "      <th>no_of_employees</th>\n",
       "    </tr>\n",
       "  </thead>\n",
       "  <tbody>\n",
       "    <tr>\n",
       "      <th>0</th>\n",
       "      <td>-0.955551</td>\n",
       "      <td>1.517300</td>\n",
       "    </tr>\n",
       "    <tr>\n",
       "      <th>1</th>\n",
       "      <td>-0.467001</td>\n",
       "      <td>0.030912</td>\n",
       "    </tr>\n",
       "    <tr>\n",
       "      <th>2</th>\n",
       "      <td>-1.078363</td>\n",
       "      <td>2.885076</td>\n",
       "    </tr>\n",
       "    <tr>\n",
       "      <th>3</th>\n",
       "      <td>1.630914</td>\n",
       "      <td>-1.343550</td>\n",
       "    </tr>\n",
       "    <tr>\n",
       "      <th>4</th>\n",
       "      <td>-0.738126</td>\n",
       "      <td>-0.432287</td>\n",
       "    </tr>\n",
       "  </tbody>\n",
       "</table>\n",
       "</div>"
      ],
      "text/plain": [
       "   company_age  no_of_employees\n",
       "0    -0.955551         1.517300\n",
       "1    -0.467001         0.030912\n",
       "2    -1.078363         2.885076\n",
       "3     1.630914        -1.343550\n",
       "4    -0.738126        -0.432287"
      ]
     },
     "execution_count": 64,
     "metadata": {},
     "output_type": "execute_result"
    }
   ],
   "source": [
    "X_copy.head()"
   ]
  },
  {
   "cell_type": "code",
   "execution_count": null,
   "id": "f4bd2387",
   "metadata": {},
   "outputs": [
    {
     "data": {
      "image/png": "[encoded data removed]",
      "text/plain": [
       "<Figure size 1200x600 with 2 Axes>"
      ]
     },
     "metadata": {},
     "output_type": "display_data"
    }
   ],
   "source": [
    "plt.figure(figsize=(12,6))\n",
    "for i, col in enumerate(transform_features):\n",
    "    plt.subplot(1,2,i+1)\n",
    "    sns.histplot(x=X_copy[col],color='indianred')\n",
    "    plt.xlabel(col)\n",
    "    plt.tight_layout()"
   ]
  },
  {
   "cell_type": "markdown",
   "id": "f960d700",
   "metadata": {},
   "source": [
    "**Checking Skewness**"
   ]
  },
  {
   "cell_type": "code",
   "execution_count": null,
   "id": "48a22777",
   "metadata": {},
   "outputs": [
    {
     "data": {
      "text/plain": [
       "company_age        0.112260\n",
       "no_of_employees    0.399339\n",
       "dtype: float64"
      ]
     },
     "execution_count": 66,
     "metadata": {},
     "output_type": "execute_result"
    }
   ],
   "source": [
    "X_copy.skew()"
   ]
  },
  {
   "cell_type": "markdown",
   "id": "eae3ec66",
   "metadata": {},
   "source": [
    "- Here Yeo-Johnson is used and it supports both positive or negative data for transformation.\n",
    "- So Power Transformer with yeo-johnson can be used."
   ]
  },
  {
   "cell_type": "markdown",
   "id": "483e9d93",
   "metadata": {},
   "source": [
    " **One Hot Encoding for Columns which had lesser unique values and not ordinal**\n",
    "* One hot encoding is a process by which categorical variables are converted into a form that could be provided to ML algorithms to do a better job in prediction.\n",
    "\n",
    "**Ordinal Encoding for Columns which has many unique categories**\n",
    "* Ordinal encoding is used here as label encoder is supported for column transformer.\n",
    "* Ordinal encoding is used for Ordinal Variable. Variable comprises a finite set of discrete values with a ranked ordering between values.\n",
    "\n",
    "**Standard Scaler**\n",
    "* Standardize features by removing the mean and scaling to unit variance.\n",
    "\n",
    "**Power Transformer**\n",
    "* Power transforms are a technique for transforming numerical input or output variables to have a Gaussian or more-Gaussian-like probability distribution."
   ]
  },
  {
   "cell_type": "markdown",
   "id": "12a69c59",
   "metadata": {},
   "source": [
    "**Selecting numerical features for preprocessing**"
   ]
  },
  {
   "cell_type": "code",
   "execution_count": null,
   "id": "4839fd24",
   "metadata": {},
   "outputs": [],
   "source": [
    "num_feature =list(X.select_dtypes(exclude='object').columns)"
   ]
  },
  {
   "cell_type": "code",
   "execution_count": null,
   "id": "a3512376",
   "metadata": {},
   "outputs": [
    {
     "data": {
      "text/plain": [
       "['no_of_employees', 'prevailing_wage', 'company_age']"
      ]
     },
     "execution_count": 70,
     "metadata": {},
     "output_type": "execute_result"
    }
   ],
   "source": [
    "num_feature"
   ]
  },
  {
   "cell_type": "markdown",
   "id": "fec2919b",
   "metadata": {},
   "source": [
    "**Preprocessing using column transformer**"
   ]
  },
  {
   "cell_type": "code",
   "execution_count": null,
   "id": "fa9866dd",
   "metadata": {},
   "outputs": [],
   "source": [
    "or_columns = ['has_job_experience','requires_job_training','full_time_position','education_of_employee']\n",
    "oh_columns = ['continent','unit_of_wage','region_of_employment']\n",
    "transform_columns= ['no_of_employees','company_age']"
   ]
  },
  {
   "cell_type": "code",
   "execution_count": null,
   "id": "28d29e40",
   "metadata": {},
   "outputs": [],
   "source": [
    "from sklearn.preprocessing import OneHotEncoder, StandardScaler,OrdinalEncoder, PowerTransformer\n",
    "from sklearn.compose import ColumnTransformer\n",
    "from sklearn.pipeline import Pipeline"
   ]
  },
  {
   "cell_type": "code",
   "execution_count": null,
   "id": "02a04b67",
   "metadata": {},
   "outputs": [],
   "source": [
    "numeric_transformer  = StandardScaler()\n",
    "oh_transformer = OneHotEncoder()\n",
    "ordinal_encoder = OrdinalEncoder()\n",
    "\n",
    "transform_pipe = Pipeline(steps=[\n",
    "    ('transformer', PowerTransformer(method='yeo-johnson'))\n",
    "  ])\n",
    "\n",
    "preprocessor = ColumnTransformer(\n",
    "    [\n",
    "        (\"OneHotEncoder\", oh_transformer, oh_columns),\n",
    "        (\"Ordinal_Encoder\", ordinal_encoder, or_columns),\n",
    "        (\"Transformer\", transform_pipe, transform_columns),\n",
    "        (\"StandardScaler\", numeric_transformer, num_features)\n",
    "    ]\n",
    ")"
   ]
  },
  {
   "cell_type": "code",
   "execution_count": null,
   "id": "1885bc4b",
   "metadata": {},
   "outputs": [],
   "source": [
    "X = preprocessor.fit_transform(X)\n",
    "X"
   ]
  }
 ],
 "metadata": {
  "kernelspec": {
   "display_name": "vehicle",
   "language": "python",
   "name": "python3"
  },
  "language_info": {
   "codemirror_mode": {
    "name": "ipython",
    "version": 3
   },
   "file_extension": ".py",
   "mimetype": "text/x-python",
   "name": "python",
   "nbconvert_exporter": "python",
   "pygments_lexer": "ipython3",
   "version": "3.10.18"
  }
 },
 "nbformat": 4,
 "nbformat_minor": 5
}
