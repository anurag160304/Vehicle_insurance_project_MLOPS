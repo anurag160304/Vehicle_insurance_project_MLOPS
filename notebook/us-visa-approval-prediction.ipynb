{
 "cells": [
  {
   "cell_type": "markdown",
   "metadata": {
    "id": "q17NegPEo_kd"
   },
   "source": [
    "#Data Pre-Processing"
   ]
  },
  {
   "cell_type": "markdown",
   "metadata": {
    "id": "4HDoKE0_pGgk"
   },
   "source": [
    "##Import package and csv"
   ]
  },
  {
   "cell_type": "code",
   "execution_count": 2,
   "metadata": {
    "execution": {
     "iopub.execute_input": "2024-09-14T11:05:06.190106Z",
     "iopub.status.busy": "2024-09-14T11:05:06.189631Z",
     "iopub.status.idle": "2024-09-14T11:05:06.260647Z",
     "shell.execute_reply": "2024-09-14T11:05:06.259439Z",
     "shell.execute_reply.started": "2024-09-14T11:05:06.190063Z"
    },
    "id": "oclv-7aEpGtA",
    "outputId": "30f4d8d4-620b-406e-f234-f067cb6e96d2",
    "trusted": true
   },
   "outputs": [
    {
     "name": "stdout",
     "output_type": "stream",
     "text": [
      "(25480, 12)\n"
     ]
    }
   ],
   "source": [
    "import pandas as pd\n",
    "import numpy as np\n",
    "import matplotlib.pyplot as plt\n",
    "import seaborn as sns\n",
    "import warnings\n",
    "warnings.filterwarnings(\"ignore\")\n",
    "\n",
    "df=pd.read_csv(\"EasyVisa.csv\")\n",
    "print(df.shape)"
   ]
  },
  {
   "cell_type": "markdown",
   "metadata": {
    "id": "K3bxGMH4pG4-"
   },
   "source": [
    "##Data Cleaning"
   ]
  },
  {
   "cell_type": "markdown",
   "metadata": {
    "id": "897PKGZ4pHEc"
   },
   "source": [
    "* Handling Missing values\n",
    "* Handling Duplicates\n",
    "* Check data type\n",
    "* Understand the dataset"
   ]
  },
  {
   "cell_type": "markdown",
   "metadata": {
    "id": "oBMpW-0ypHRb"
   },
   "source": [
    "##Check Null Values"
   ]
  },
  {
   "cell_type": "code",
   "execution_count": 31,
   "metadata": {
    "id": "Ad-L4MIopHdX",
    "outputId": "645be4d1-5bce-4716-9098-7159d2e2f018"
   },
   "outputs": [
    {
     "data": {
      "text/plain": [
       "case_id                  0\n",
       "continent                0\n",
       "education_of_employee    0\n",
       "has_job_experience       0\n",
       "requires_job_training    0\n",
       "no_of_employees          0\n",
       "yr_of_estab              0\n",
       "region_of_employment     0\n",
       "prevailing_wage          0\n",
       "unit_of_wage             0\n",
       "full_time_position       0\n",
       "case_status              0\n",
       "dtype: int64"
      ]
     },
     "execution_count": 31,
     "metadata": {},
     "output_type": "execute_result"
    }
   ],
   "source": [
    "df.isnull().sum()"
   ]
  },
  {
   "cell_type": "markdown",
   "metadata": {
    "id": "IDgT2ircpHpX"
   },
   "source": [
    "* **There are no null values in the dataset**"
   ]
  },
  {
   "cell_type": "markdown",
   "metadata": {
    "id": "DTY6y1lapH0d"
   },
   "source": [
    "### 3.2 Other Data Cleaning steps"
   ]
  },
  {
   "cell_type": "markdown",
   "metadata": {
    "id": "yktH77X8pH-8"
   },
   "source": [
    "**Handling Duplicates**"
   ]
  },
  {
   "cell_type": "code",
   "execution_count": 32,
   "metadata": {
    "id": "FibLDMMnqNia",
    "outputId": "cff695b5-5406-45c5-9567-de5c71c5645e"
   },
   "outputs": [
    {
     "data": {
      "text/plain": [
       "np.int64(0)"
      ]
     },
     "execution_count": 32,
     "metadata": {},
     "output_type": "execute_result"
    }
   ],
   "source": [
    "df.duplicated().sum()"
   ]
  },
  {
   "cell_type": "markdown",
   "metadata": {
    "id": "ogSBi9E_qNs9"
   },
   "source": [
    "* **No Duplicates in the dataset**"
   ]
  },
  {
   "cell_type": "markdown",
   "metadata": {
    "id": "OmbQQtpuqNx_"
   },
   "source": [
    "**Remove case_id from the dataset as it cannot used in Model Training**"
   ]
  },
  {
   "cell_type": "code",
   "execution_count": 33,
   "metadata": {
    "id": "fIkkyVocqN2p"
   },
   "outputs": [],
   "source": [
    "df.drop(columns='case_id', inplace=True, axis=1)"
   ]
  },
  {
   "cell_type": "code",
   "execution_count": 34,
   "metadata": {
    "id": "JU7vW7LiqN6I",
    "outputId": "1d8a60a2-20b7-4d4c-d4b6-31aa5383f5a2"
   },
   "outputs": [
    {
     "data": {
      "text/html": [
       "<div>\n",
       "<style scoped>\n",
       "    .dataframe tbody tr th:only-of-type {\n",
       "        vertical-align: middle;\n",
       "    }\n",
       "\n",
       "    .dataframe tbody tr th {\n",
       "        vertical-align: top;\n",
       "    }\n",
       "\n",
       "    .dataframe thead th {\n",
       "        text-align: right;\n",
       "    }\n",
       "</style>\n",
       "<table border=\"1\" class=\"dataframe\">\n",
       "  <thead>\n",
       "    <tr style=\"text-align: right;\">\n",
       "      <th></th>\n",
       "      <th>continent</th>\n",
       "      <th>education_of_employee</th>\n",
       "      <th>has_job_experience</th>\n",
       "      <th>requires_job_training</th>\n",
       "      <th>no_of_employees</th>\n",
       "      <th>yr_of_estab</th>\n",
       "      <th>region_of_employment</th>\n",
       "      <th>prevailing_wage</th>\n",
       "      <th>unit_of_wage</th>\n",
       "      <th>full_time_position</th>\n",
       "      <th>case_status</th>\n",
       "    </tr>\n",
       "  </thead>\n",
       "  <tbody>\n",
       "    <tr>\n",
       "      <th>0</th>\n",
       "      <td>Asia</td>\n",
       "      <td>High School</td>\n",
       "      <td>N</td>\n",
       "      <td>N</td>\n",
       "      <td>14513</td>\n",
       "      <td>2007</td>\n",
       "      <td>West</td>\n",
       "      <td>592.2029</td>\n",
       "      <td>Hour</td>\n",
       "      <td>Y</td>\n",
       "      <td>Denied</td>\n",
       "    </tr>\n",
       "    <tr>\n",
       "      <th>1</th>\n",
       "      <td>Asia</td>\n",
       "      <td>Master's</td>\n",
       "      <td>Y</td>\n",
       "      <td>N</td>\n",
       "      <td>2412</td>\n",
       "      <td>2002</td>\n",
       "      <td>Northeast</td>\n",
       "      <td>83425.6500</td>\n",
       "      <td>Year</td>\n",
       "      <td>Y</td>\n",
       "      <td>Certified</td>\n",
       "    </tr>\n",
       "    <tr>\n",
       "      <th>2</th>\n",
       "      <td>Asia</td>\n",
       "      <td>Bachelor's</td>\n",
       "      <td>N</td>\n",
       "      <td>Y</td>\n",
       "      <td>44444</td>\n",
       "      <td>2008</td>\n",
       "      <td>West</td>\n",
       "      <td>122996.8600</td>\n",
       "      <td>Year</td>\n",
       "      <td>Y</td>\n",
       "      <td>Denied</td>\n",
       "    </tr>\n",
       "    <tr>\n",
       "      <th>3</th>\n",
       "      <td>Asia</td>\n",
       "      <td>Bachelor's</td>\n",
       "      <td>N</td>\n",
       "      <td>N</td>\n",
       "      <td>98</td>\n",
       "      <td>1897</td>\n",
       "      <td>West</td>\n",
       "      <td>83434.0300</td>\n",
       "      <td>Year</td>\n",
       "      <td>Y</td>\n",
       "      <td>Denied</td>\n",
       "    </tr>\n",
       "    <tr>\n",
       "      <th>4</th>\n",
       "      <td>Africa</td>\n",
       "      <td>Master's</td>\n",
       "      <td>Y</td>\n",
       "      <td>N</td>\n",
       "      <td>1082</td>\n",
       "      <td>2005</td>\n",
       "      <td>South</td>\n",
       "      <td>149907.3900</td>\n",
       "      <td>Year</td>\n",
       "      <td>Y</td>\n",
       "      <td>Certified</td>\n",
       "    </tr>\n",
       "  </tbody>\n",
       "</table>\n",
       "</div>"
      ],
      "text/plain": [
       "  continent education_of_employee has_job_experience requires_job_training  \\\n",
       "0      Asia           High School                  N                     N   \n",
       "1      Asia              Master's                  Y                     N   \n",
       "2      Asia            Bachelor's                  N                     Y   \n",
       "3      Asia            Bachelor's                  N                     N   \n",
       "4    Africa              Master's                  Y                     N   \n",
       "\n",
       "   no_of_employees  yr_of_estab region_of_employment  prevailing_wage  \\\n",
       "0            14513         2007                 West         592.2029   \n",
       "1             2412         2002            Northeast       83425.6500   \n",
       "2            44444         2008                 West      122996.8600   \n",
       "3               98         1897                 West       83434.0300   \n",
       "4             1082         2005                South      149907.3900   \n",
       "\n",
       "  unit_of_wage full_time_position case_status  \n",
       "0         Hour                  Y      Denied  \n",
       "1         Year                  Y   Certified  \n",
       "2         Year                  Y      Denied  \n",
       "3         Year                  Y      Denied  \n",
       "4         Year                  Y   Certified  "
      ]
     },
     "execution_count": 34,
     "metadata": {},
     "output_type": "execute_result"
    }
   ],
   "source": [
    "df.head(5)"
   ]
  },
  {
   "cell_type": "code",
   "execution_count": 35,
   "metadata": {
    "id": "iQBxO4PvqN9C"
   },
   "outputs": [],
   "source": [
    "# importing date class from datetime module\n",
    "from datetime import date\n",
    "\n",
    "# creating the date object of today's date\n",
    "todays_date = date.today()\n",
    "current_year= todays_date.year"
   ]
  },
  {
   "cell_type": "code",
   "execution_count": 36,
   "metadata": {
    "id": "WVMoqmPNqN_4"
   },
   "outputs": [],
   "source": [
    "df['company_age'] = current_year-df['yr_of_estab']"
   ]
  },
  {
   "cell_type": "code",
   "execution_count": 37,
   "metadata": {
    "id": "VrntMstZqOF4"
   },
   "outputs": [],
   "source": [
    "df.drop('yr_of_estab', inplace=True, axis=1)"
   ]
  },
  {
   "cell_type": "markdown",
   "metadata": {
    "id": "nL1GuDR5qOIm"
   },
   "source": [
    "### Type of Features"
   ]
  },
  {
   "cell_type": "markdown",
   "metadata": {
    "id": "wheLBmR9qOLo"
   },
   "source": [
    "**Numeric Features**"
   ]
  },
  {
   "cell_type": "code",
   "execution_count": 3,
   "metadata": {
    "id": "jLLEbxRYqOOH",
    "outputId": "3e475570-fe00-4d5d-c232-bbba52835598"
   },
   "outputs": [
    {
     "name": "stdout",
     "output_type": "stream",
     "text": [
      "Number of numerical variables:  3\n"
     ]
    }
   ],
   "source": [
    "numeric_features = [feature for feature in df.columns if df[feature].dtype != 'O']\n",
    "print('Number of numerical variables: ', len(numeric_features))"
   ]
  },
  {
   "cell_type": "markdown",
   "metadata": {
    "id": "ksBKOaSirLJJ"
   },
   "source": [
    "**Categorical Features**"
   ]
  },
  {
   "cell_type": "code",
   "execution_count": 39,
   "metadata": {
    "id": "qQS4vyOzrLNP",
    "outputId": "02bb127c-195f-4ed5-890b-c89a15c1255c"
   },
   "outputs": [
    {
     "name": "stdout",
     "output_type": "stream",
     "text": [
      "Number of categorical variables:  8\n"
     ]
    }
   ],
   "source": [
    "categorical_features = [feature for feature in df.columns if df[feature].dtype == 'O']\n",
    "print('Number of categorical variables: ', len(categorical_features))"
   ]
  },
  {
   "cell_type": "markdown",
   "metadata": {
    "id": "gbdnw_iyrLST"
   },
   "source": [
    "**Discrete features**"
   ]
  },
  {
   "cell_type": "code",
   "execution_count": 40,
   "metadata": {
    "id": "WlVugeSDrLWS",
    "outputId": "44bffcfd-e5ff-41ac-9d1b-203398390f5d"
   },
   "outputs": [
    {
     "name": "stdout",
     "output_type": "stream",
     "text": [
      "Num of Discrete Features : 0\n"
     ]
    }
   ],
   "source": [
    "discrete_features=[feature for feature in numeric_features if len(df[feature].unique())<=25]\n",
    "print('Num of Discrete Features :',len(discrete_features))"
   ]
  },
  {
   "cell_type": "markdown",
   "metadata": {
    "id": "YoyEFSWqrMJ3"
   },
   "source": [
    "**Continious features**"
   ]
  },
  {
   "cell_type": "code",
   "execution_count": 41,
   "metadata": {
    "id": "BYG9ndBxrMWP",
    "outputId": "f381c252-c473-41d3-cbb1-597cb2db309d"
   },
   "outputs": [
    {
     "name": "stdout",
     "output_type": "stream",
     "text": [
      "Num of Continious Features : 3\n"
     ]
    }
   ],
   "source": [
    "continious_features=[feature for feature in numeric_features if feature not in discrete_features]\n",
    "print('Num of Continious Features :',len(continious_features))"
   ]
  },
  {
   "cell_type": "markdown",
   "metadata": {
    "id": "40Q6sfiqrMfq"
   },
   "source": [
    "## Split X and Y"
   ]
  },
  {
   "cell_type": "markdown",
   "metadata": {
    "id": "Inyioivgr9c1"
   },
   "source": [
    "* **Split Dataframe to X and y**\n",
    "* **Here we set a variable X i.e, independent columns, and a variable y i.e, dependent column as the “Case_Status” column.**\n"
   ]
  },
  {
   "cell_type": "code",
   "execution_count": 42,
   "metadata": {
    "id": "InirRe_Ir9ow"
   },
   "outputs": [],
   "source": [
    "X = df.drop('case_status', axis=1)\n",
    "y = df['case_status']"
   ]
  },
  {
   "cell_type": "markdown",
   "metadata": {
    "id": "xTc5VXY-r9sx"
   },
   "source": [
    "**Manual encoding the target column**"
   ]
  },
  {
   "cell_type": "code",
   "execution_count": 43,
   "metadata": {
    "id": "YfY9G42Pr9wY"
   },
   "outputs": [],
   "source": [
    "# If the target column has Denied it is encoded as 1 others as 0\n",
    "y= np.where(y=='Denied', 1,0)"
   ]
  },
  {
   "cell_type": "markdown",
   "metadata": {
    "id": "mUvNPsy-r91U"
   },
   "source": [
    "## Feature Transformation"
   ]
  },
  {
   "cell_type": "code",
   "execution_count": null,
   "metadata": {
    "id": "iUI68AFhr96f",
    "outputId": "b7e80b86-0787-4d55-bc56-02d4fbdcfbf0"
   },
   "outputs": [
    {
     "ename": "NameError",
     "evalue": "name 'X' is not defined",
     "output_type": "error",
     "traceback": [
      "\u001b[1;31m---------------------------------------------------------------------------\u001b[0m",
      "\u001b[1;31mNameError\u001b[0m                                 Traceback (most recent call last)",
      "Cell \u001b[1;32mIn[4], line 5\u001b[0m\n\u001b[0;32m      3\u001b[0m \u001b[38;5;28;01mfor\u001b[39;00m i, col \u001b[38;5;129;01min\u001b[39;00m \u001b[38;5;28menumerate\u001b[39m([\u001b[38;5;124m'\u001b[39m\u001b[38;5;124mno_of_employees\u001b[39m\u001b[38;5;124m'\u001b[39m,\u001b[38;5;124m'\u001b[39m\u001b[38;5;124mprevailing_wage\u001b[39m\u001b[38;5;124m'\u001b[39m,\u001b[38;5;124m'\u001b[39m\u001b[38;5;124mcompany_age\u001b[39m\u001b[38;5;124m'\u001b[39m]):\n\u001b[0;32m      4\u001b[0m     plt\u001b[38;5;241m.\u001b[39msubplot(\u001b[38;5;241m2\u001b[39m, \u001b[38;5;241m2\u001b[39m, i\u001b[38;5;241m+\u001b[39m\u001b[38;5;241m1\u001b[39m)\n\u001b[1;32m----> 5\u001b[0m     sns\u001b[38;5;241m.\u001b[39mhistplot(x\u001b[38;5;241m=\u001b[39m\u001b[43mX\u001b[49m[col], color\u001b[38;5;241m=\u001b[39m\u001b[38;5;124m'\u001b[39m\u001b[38;5;124mindianred\u001b[39m\u001b[38;5;124m'\u001b[39m)\n\u001b[0;32m      6\u001b[0m     plt\u001b[38;5;241m.\u001b[39mxlabel(col)\n\u001b[0;32m      7\u001b[0m     plt\u001b[38;5;241m.\u001b[39mtight_layout()\n",
      "\u001b[1;31mNameError\u001b[0m: name 'X' is not defined"
     ]
    },
    {
     "data": {
      "image/png": "[encoded data removed]",
      "text/plain": [
       "<Figure size 1200x600 with 1 Axes>"
      ]
     },
     "metadata": {},
     "output_type": "display_data"
    }
   ],
   "source": [
    "# distribution of data before scaling\n",
    "plt.figure(figsize=(12, 6))\n",
    "for i, col in enumerate(['no_of_employees','prevailing_wage','company_age']):\n",
    "    plt.subplot(2, 2, i+1)\n",
    "    sns.histplot(x=X[col], color='indianred')\n",
    "    \n",
    "    plt.xlabel(col)\n",
    "    plt.tight_layout()"
   ]
  },
  {
   "cell_type": "markdown",
   "metadata": {
    "id": "aODiV7d0sxjQ"
   },
   "source": [
    "* No of employees and Copmany age column is skewed\n",
    "* Apply a power transform featurewise to make data more Gaussian-like.\n",
    "\n",
    "Power transforms are a family of parametric, monotonic transformations that are applied to make data more Gaussian-like. This is useful for modeling issues related to heteroscedasticity (non-constant variance), or other situations where normality is desired.\n",
    "\n",
    "Currently, PowerTransformer supports the Box-Cox transform and the Yeo-Johnson transform."
   ]
  },
  {
   "cell_type": "markdown",
   "metadata": {
    "id": "akN_oPuesxwV"
   },
   "source": [
    "**Checking skewness**"
   ]
  },
  {
   "cell_type": "code",
   "execution_count": 45,
   "metadata": {
    "id": "H4bdERIZsx7_",
    "outputId": "ebc78f86-c2a7-4de1-cd2f-d51f8a79595a"
   },
   "outputs": [
    {
     "data": {
      "text/plain": [
       "no_of_employees    12.265260\n",
       "prevailing_wage     0.755776\n",
       "company_age         2.037301\n",
       "dtype: float64"
      ]
     },
     "execution_count": 45,
     "metadata": {},
     "output_type": "execute_result"
    }
   ],
   "source": [
    "# Check Skewness\n",
    "X[continious_features].skew(axis=0, skipna=True)"
   ]
  },
  {
   "cell_type": "markdown",
   "metadata": {
    "id": "fpwo-hv9syIr"
   },
   "source": [
    "- Positiviely Skewed : company_age, no_of_employees.\n",
    "- We can handle outliers and then check the skewness."
   ]
  },
  {
   "cell_type": "markdown",
   "metadata": {
    "id": "ED40HNH6twSy"
   },
   "source": [
    "## Apply Power Transformer to Check if it can reduces the outliers"
   ]
  },
  {
   "cell_type": "code",
   "execution_count": 46,
   "metadata": {
    "id": "l4BVqgCjtwXy"
   },
   "outputs": [],
   "source": [
    "from sklearn.preprocessing import PowerTransformer\n",
    "pt = PowerTransformer(method='yeo-johnson')\n",
    "transform_features = ['company_age', 'no_of_employees']\n",
    "X_copy = pt.fit_transform(X[transform_features])"
   ]
  },
  {
   "cell_type": "code",
   "execution_count": 47,
   "metadata": {
    "id": "YD_QN6QqtwcT"
   },
   "outputs": [],
   "source": [
    "X_copy = pd.DataFrame(X_copy, columns=transform_features)"
   ]
  },
  {
   "cell_type": "code",
   "execution_count": 48,
   "metadata": {
    "id": "vn_f2qu2twfl",
    "outputId": "9799bf05-9f8a-487f-9b3c-665e0fcf6121"
   },
   "outputs": [
    {
     "data": {
      "text/html": [
       "<div>\n",
       "<style scoped>\n",
       "    .dataframe tbody tr th:only-of-type {\n",
       "        vertical-align: middle;\n",
       "    }\n",
       "\n",
       "    .dataframe tbody tr th {\n",
       "        vertical-align: top;\n",
       "    }\n",
       "\n",
       "    .dataframe thead th {\n",
       "        text-align: right;\n",
       "    }\n",
       "</style>\n",
       "<table border=\"1\" class=\"dataframe\">\n",
       "  <thead>\n",
       "    <tr style=\"text-align: right;\">\n",
       "      <th></th>\n",
       "      <th>company_age</th>\n",
       "      <th>no_of_employees</th>\n",
       "    </tr>\n",
       "  </thead>\n",
       "  <tbody>\n",
       "    <tr>\n",
       "      <th>0</th>\n",
       "      <td>-0.955551</td>\n",
       "      <td>1.517300</td>\n",
       "    </tr>\n",
       "    <tr>\n",
       "      <th>1</th>\n",
       "      <td>-0.467001</td>\n",
       "      <td>0.030912</td>\n",
       "    </tr>\n",
       "    <tr>\n",
       "      <th>2</th>\n",
       "      <td>-1.078363</td>\n",
       "      <td>2.885076</td>\n",
       "    </tr>\n",
       "    <tr>\n",
       "      <th>3</th>\n",
       "      <td>1.630914</td>\n",
       "      <td>-1.343550</td>\n",
       "    </tr>\n",
       "    <tr>\n",
       "      <th>4</th>\n",
       "      <td>-0.738126</td>\n",
       "      <td>-0.432287</td>\n",
       "    </tr>\n",
       "  </tbody>\n",
       "</table>\n",
       "</div>"
      ],
      "text/plain": [
       "   company_age  no_of_employees\n",
       "0    -0.955551         1.517300\n",
       "1    -0.467001         0.030912\n",
       "2    -1.078363         2.885076\n",
       "3     1.630914        -1.343550\n",
       "4    -0.738126        -0.432287"
      ]
     },
     "execution_count": 48,
     "metadata": {},
     "output_type": "execute_result"
    }
   ],
   "source": [
    "X_copy.head()"
   ]
  },
  {
   "cell_type": "code",
   "execution_count": 49,
   "metadata": {
    "id": "z8OUlU9ftwjK",
    "outputId": "f97cfb51-ac87-4595-f677-4c6ed55e6743"
   },
   "outputs": [
    {
     "data": {
      "image/png": "[encoded data removed]",
      "text/plain": [
       "<Figure size 1200x600 with 2 Axes>"
      ]
     },
     "metadata": {},
     "output_type": "display_data"
    }
   ],
   "source": [
    "plt.figure(figsize=(12, 6))\n",
    "for i, col in enumerate(transform_features):\n",
    "  plt.subplot(1,2,i+1)\n",
    "  sns.histplot(x=X_copy[col], color='indianred')\n",
    "  plt.xlabel(col)\n",
    "  plt.tight_layout()"
   ]
  },
  {
   "cell_type": "markdown",
   "metadata": {
    "id": "6zpUsWIftwoQ"
   },
   "source": [
    "**Checking Skewness**"
   ]
  },
  {
   "cell_type": "code",
   "execution_count": 50,
   "metadata": {
    "id": "fwVxzfv6twv_",
    "outputId": "64c2f4b2-a170-4875-9006-0595cf9e6572"
   },
   "outputs": [
    {
     "data": {
      "text/plain": [
       "company_age        0.112260\n",
       "no_of_employees    0.399339\n",
       "dtype: float64"
      ]
     },
     "execution_count": 50,
     "metadata": {},
     "output_type": "execute_result"
    }
   ],
   "source": [
    "X_copy.skew(axis=0, skipna=True)"
   ]
  },
  {
   "cell_type": "markdown",
   "metadata": {
    "id": "W4SYBPjsuyxN"
   },
   "source": [
    "- Here Yeo-Johnson is used and it supports both positive or negative data for transformation.\n",
    "- So Power Transformer with yeo-johnson can be used."
   ]
  },
  {
   "cell_type": "code",
   "execution_count": 51,
   "metadata": {
    "id": "CHZtmZQ8uy_s",
    "outputId": "91dd11d8-2ff2-41e9-84df-65a4b9cc2c0f"
   },
   "outputs": [
    {
     "name": "stdout",
     "output_type": "stream",
     "text": [
      "continent : 6\n",
      "education_of_employee : 4\n",
      "has_job_experience : 2\n",
      "requires_job_training : 2\n",
      "region_of_employment : 5\n",
      "unit_of_wage : 4\n",
      "full_time_position : 2\n",
      "case_status : 2\n"
     ]
    }
   ],
   "source": [
    "for feature in categorical_features:\n",
    "    print(feature,':', df[feature].nunique())"
   ]
  },
  {
   "cell_type": "markdown",
   "metadata": {
    "id": "StK3AApLuzO0"
   },
   "source": [
    "## Feature Encoding and Scaling"
   ]
  },
  {
   "cell_type": "markdown",
   "metadata": {
    "id": "3-7IT1kMwXsz"
   },
   "source": [
    " **One Hot Encoding for Columns which had lesser unique values and not ordinal**\n",
    "* One hot encoding is a process by which categorical variables are converted into a form that could be provided to ML algorithms to do a better job in prediction.\n",
    "\n",
    "**Ordinal Encoding for Columns which has many unique categories**\n",
    "* Ordinal encoding is used here as label encoder is supported for column transformer.\n",
    "* Ordinal encoding is used for Ordinal Variable. Variable comprises a finite set of discrete values with a ranked ordering between values.\n",
    "\n",
    "**Standard Scaler**\n",
    "* Standardize features by removing the mean and scaling to unit variance.\n",
    "\n",
    "**Power Transformer**\n",
    "* Power transforms are a technique for transforming numerical input or output variables to have a Gaussian or more-Gaussian-like probability distribution."
   ]
  },
  {
   "cell_type": "markdown",
   "metadata": {
    "id": "_208-PkWwX5y"
   },
   "source": [
    "**Selecting numerical features for preprocessing**"
   ]
  },
  {
   "cell_type": "code",
   "execution_count": 52,
   "metadata": {
    "id": "26RfOMt3wYF1"
   },
   "outputs": [],
   "source": [
    "num_features = list(X.select_dtypes(exclude='object').columns)"
   ]
  },
  {
   "cell_type": "code",
   "execution_count": 53,
   "metadata": {
    "id": "vkYYfk2VwYPz",
    "outputId": "a405b019-912a-490d-e7ba-fedb6a9bd0fa"
   },
   "outputs": [
    {
     "data": {
      "text/plain": [
       "['no_of_employees', 'prevailing_wage', 'company_age']"
      ]
     },
     "execution_count": 53,
     "metadata": {},
     "output_type": "execute_result"
    }
   ],
   "source": [
    "num_features"
   ]
  },
  {
   "cell_type": "markdown",
   "metadata": {
    "id": "wM-Pl4casyf0"
   },
   "source": [
    "## Preprocessing using Column Transformer"
   ]
  },
  {
   "cell_type": "code",
   "execution_count": 54,
   "metadata": {
    "id": "j7jP1hM8r99j"
   },
   "outputs": [],
   "source": [
    "or_columns = ['has_job_experience','requires_job_training','full_time_position','education_of_employee']\n",
    "oh_columns = ['continent','unit_of_wage','region_of_employment']\n",
    "transform_columns= ['no_of_employees','company_age']"
   ]
  },
  {
   "cell_type": "code",
   "execution_count": 55,
   "metadata": {
    "id": "KX4TXVs5xt4F"
   },
   "outputs": [],
   "source": [
    "from sklearn.preprocessing import OneHotEncoder, StandardScaler,OrdinalEncoder, PowerTransformer\n",
    "from sklearn.compose import ColumnTransformer\n",
    "from sklearn.pipeline import Pipeline"
   ]
  },
  {
   "cell_type": "code",
   "execution_count": 56,
   "metadata": {
    "id": "TsSCd_HSxuEH"
   },
   "outputs": [],
   "source": [
    "numeric_transformer  = StandardScaler()\n",
    "oh_transformer = OneHotEncoder()\n",
    "ordinal_encoder = OrdinalEncoder()\n",
    "\n",
    "transform_pipe = Pipeline(steps=[\n",
    "    ('transformer', PowerTransformer(method='yeo-johnson'))\n",
    "  ])\n",
    "\n",
    "preprocessor = ColumnTransformer(\n",
    "    [\n",
    "        (\"OneHotEncoder\", oh_transformer, oh_columns),\n",
    "        (\"Ordinal_Encoder\", ordinal_encoder, or_columns),\n",
    "        (\"Transformer\", transform_pipe, transform_columns),\n",
    "        (\"StandardScaler\", numeric_transformer, num_features)\n",
    "    ]\n",
    ")"
   ]
  },
  {
   "cell_type": "code",
   "execution_count": 57,
   "metadata": {
    "id": "dKb43cqsxuO4"
   },
   "outputs": [],
   "source": [
    "X = preprocessor.fit_transform(X)"
   ]
  },
  {
   "cell_type": "code",
   "execution_count": 58,
   "metadata": {
    "id": "4nIcoO7BxubR",
    "outputId": "50350809-5c32-4790-97f0-859a7af13cb2"
   },
   "outputs": [
    {
     "data": {
      "text/plain": [
       "array([[ 0.        ,  1.        ,  0.        , ...,  0.38666657,\n",
       "        -1.39853722, -0.65122993],\n",
       "       [ 0.        ,  1.        ,  0.        , ..., -0.14228155,\n",
       "         0.1698353 , -0.53321103],\n",
       "       [ 0.        ,  1.        ,  0.        , ...,  1.69498375,\n",
       "         0.91907852, -0.6748337 ],\n",
       "       ...,\n",
       "       [ 0.        ,  1.        ,  0.        , ..., -0.19871259,\n",
       "         1.36027953,  1.63833662],\n",
       "       [ 0.        ,  1.        ,  0.        , ..., -0.16387483,\n",
       "         0.22150859,  2.18122353],\n",
       "       [ 0.        ,  1.        ,  0.        , ..., -0.10805575,\n",
       "        -0.06776315,  0.45814768]], shape=(25480, 24))"
      ]
     },
     "execution_count": 58,
     "metadata": {},
     "output_type": "execute_result"
    }
   ],
   "source": [
    "X"
   ]
  },
  {
   "cell_type": "code",
   "execution_count": null,
   "metadata": {
    "id": "cz7KGy320_ps"
   },
   "outputs": [],
   "source": [
    "from imblearn.combine import SMOTETomek, SMOTEENN\n",
    "smt = SMOTEENN(random_state=42, sampling_strategy='minority')\n",
    "#fit the model to genearate the data\n",
    "X_res, y_res = smt.fit_resample(X, y)"
   ]
  },
  {
   "cell_type": "code",
   "execution_count": null,
   "metadata": {
    "id": "EMIcugDT2H2F",
    "outputId": "abf36a3b-d3a0-4c80-fb76-08e934f23137"
   },
   "outputs": [],
   "source": [
    "from sklearn.model_selection import  train_test_split\n",
    "# separate dataset into train and test\n",
    "X_train, X_test, y_train, y_test = train_test_split(X_res,y_res,test_size=0.2,random_state=42)\n",
    "X_train.shape, X_test.shape"
   ]
  },
  {
   "cell_type": "code",
   "execution_count": null,
   "metadata": {
    "id": "rfy7syZx2IBA"
   },
   "outputs": [],
   "source": [
    "from sklearn.ensemble import RandomForestClassifier, AdaBoostClassifier, GradientBoostingClassifier\n",
    "from sklearn.linear_model import LogisticRegression\n",
    "from sklearn.neighbors import KNeighborsClassifier\n",
    "from sklearn.tree import DecisionTreeClassifier\n",
    "from sklearn.svm import SVC\n",
    "from sklearn.metrics import accuracy_score, classification_report,ConfusionMatrixDisplay, \\\n",
    "                            precision_score, recall_score, f1_score, roc_auc_score,roc_curve\n",
    "from xgboost import XGBClassifier\n",
    "from catboost import CatBoostClassifier"
   ]
  },
  {
   "cell_type": "code",
   "execution_count": null,
   "metadata": {
    "id": "NK7sIHO-2IDs"
   },
   "outputs": [],
   "source": [
    "def evaluate_clf(true, predicted):\n",
    "    acc = accuracy_score(true, predicted) # Calculate Accuracy\n",
    "    f1 = f1_score(true, predicted) # Calculate F1-score\n",
    "    precision = precision_score(true, predicted) # Calculate Precision\n",
    "    recall = recall_score(true, predicted)  # Calculate Recall\n",
    "    roc_auc = roc_auc_score(true, predicted) #Calculate Roc\n",
    "    return acc, f1 , precision, recall, roc_auc"
   ]
  },
  {
   "cell_type": "code",
   "execution_count": null,
   "metadata": {
    "id": "ZEYH5PZn2IHd"
   },
   "outputs": [],
   "source": [
    "models = {\n",
    "    \"Random Forest\": RandomForestClassifier(),\n",
    "    \"Decision Tree\": DecisionTreeClassifier(),\n",
    "    \"Gradient Boosting\": GradientBoostingClassifier(),\n",
    "    \"Logistic Regression\": LogisticRegression(),\n",
    "     \"K-Neighbors Classifier\": KNeighborsClassifier(),\n",
    "    \"XGBClassifier\": XGBClassifier(),\n",
    "     \"CatBoosting Classifier\": CatBoostClassifier(verbose=False),\n",
    "     \"Support Vector Classifier\": SVC(),\n",
    "    \"AdaBoost Classifier\": AdaBoostClassifier()\n",
    "\n",
    "}"
   ]
  },
  {
   "cell_type": "code",
   "execution_count": null,
   "metadata": {
    "id": "JwYYVv542ILY"
   },
   "outputs": [],
   "source": [
    "# Create a function which can evaluate models and return a report\n",
    "def evaluate_models(X, y, models):\n",
    "    '''\n",
    "    This function takes in X and y and models dictionary as input\n",
    "    It splits the data into Train Test split\n",
    "    Iterates through the given model dictionary and evaluates the metrics\n",
    "    Returns: Dataframe which contains report of all models metrics with cost\n",
    "    '''\n",
    "    # separate dataset into train and test\n",
    "    X_train, X_test, y_train, y_test = train_test_split(X,y,test_size=0.2,random_state=42)\n",
    "\n",
    "    models_list = []\n",
    "    accuracy_list = []\n",
    "    auc= []\n",
    "\n",
    "    for i in range(len(list(models))):\n",
    "        model = list(models.values())[i]\n",
    "        model.fit(X_train, y_train) # Train model\n",
    "\n",
    "        # Make predictions\n",
    "        y_train_pred = model.predict(X_train)\n",
    "        y_test_pred = model.predict(X_test)\n",
    "\n",
    "        # Training set performance\n",
    "        model_train_accuracy, model_train_f1,model_train_precision,\\\n",
    "        model_train_recall,model_train_rocauc_score=evaluate_clf(y_train ,y_train_pred)\n",
    "\n",
    "\n",
    "        # Test set performance\n",
    "        model_test_accuracy,model_test_f1,model_test_precision,\\\n",
    "        model_test_recall,model_test_rocauc_score=evaluate_clf(y_test, y_test_pred)\n",
    "\n",
    "        print(list(models.keys())[i])\n",
    "        models_list.append(list(models.keys())[i])\n",
    "\n",
    "        print('Model performance for Training set')\n",
    "        print(\"- Accuracy: {:.4f}\".format(model_train_accuracy))\n",
    "        print('- F1 score: {:.4f}'.format(model_train_f1))\n",
    "        print('- Precision: {:.4f}'.format(model_train_precision))\n",
    "        print('- Recall: {:.4f}'.format(model_train_recall))\n",
    "        print('- Roc Auc Score: {:.4f}'.format(model_train_rocauc_score))\n",
    "\n",
    "        print('----------------------------------')\n",
    "\n",
    "        print('Model performance for Test set')\n",
    "        print('- Accuracy: {:.4f}'.format(model_test_accuracy))\n",
    "        accuracy_list.append(model_test_accuracy)\n",
    "        print('- F1 score: {:.4f}'.format(model_test_f1))\n",
    "        print('- Precision: {:.4f}'.format(model_test_precision))\n",
    "        print('- Recall: {:.4f}'.format(model_test_recall))\n",
    "        print('- Roc Auc Score: {:.4f}'.format(model_test_rocauc_score))\n",
    "        auc.append(model_test_rocauc_score)\n",
    "        print('='*35)\n",
    "        print('\\n')\n",
    "\n",
    "    report=pd.DataFrame(list(zip(models_list, accuracy_list)), columns=['Model Name', 'Accuracy']).sort_values(by=['Accuracy'], ascending=False)\n",
    "\n",
    "    return report"
   ]
  },
  {
   "cell_type": "code",
   "execution_count": null,
   "metadata": {
    "id": "ndrvAViO2ION",
    "outputId": "445ef36f-12b9-4ece-b26d-f63b0867be01"
   },
   "outputs": [],
   "source": [
    "base_model_report =evaluate_models(X=X_res, y=y_res, models=models)"
   ]
  },
  {
   "cell_type": "markdown",
   "metadata": {
    "id": "Ety-PKiT5n4g"
   },
   "source": [
    "**Results of All Models**"
   ]
  },
  {
   "cell_type": "code",
   "execution_count": null,
   "metadata": {
    "id": "MktShroP5pGW",
    "outputId": "bf80a988-b690-4f66-dfa8-cfa4a8820f95"
   },
   "outputs": [],
   "source": [
    "base_model_report"
   ]
  },
  {
   "cell_type": "markdown",
   "metadata": {
    "id": "3Of-g_Qd54z6"
   },
   "source": [
    "**Here we can use Random Forest for Hyper Parameter Tuning**"
   ]
  },
  {
   "cell_type": "markdown",
   "metadata": {
    "id": "QRLRAJkI55Am"
   },
   "source": [
    "**Define the parameter distribution for Random forest**"
   ]
  },
  {
   "cell_type": "code",
   "execution_count": null,
   "metadata": {
    "id": "GCfSVwl755G2"
   },
   "outputs": [],
   "source": [
    "#Initialize few parameter for Hyperparamter tuning\n",
    "xgboost_params = {\n",
    "    'max_depth':range(3,10,2),\n",
    "    'min_child_weight':range(1,6,2)\n",
    "}\n",
    "\n",
    "rf_params = {\n",
    "    \"max_depth\": [10, 12, None, 15, 20],\n",
    "    \"max_features\": ['sqrt', 'log2', None],\n",
    "    \"n_estimators\": [10, 50, 100, 200]\n",
    "}\n",
    "\n",
    "knn_params = {\n",
    "    \"algorithm\": ['auto', 'ball_tree', 'kd_tree','brute'],\n",
    "    \"weights\": ['uniform', 'distance'],\n",
    "    \"n_neighbors\": [3, 4, 5, 7, 9],\n",
    "}"
   ]
  },
  {
   "cell_type": "code",
   "execution_count": null,
   "metadata": {
    "id": "ucmQVCjJ55La"
   },
   "outputs": [],
   "source": [
    "# Models list for Hyperparameter tuning\n",
    "randomcv_models = [\n",
    "    ('XGBoost', XGBClassifier(), xgboost_params),\n",
    "    (\"RF\", RandomForestClassifier(), rf_params),\n",
    "    (\"KNN\", KNeighborsClassifier(), knn_params)\n",
    "]"
   ]
  },
  {
   "cell_type": "markdown",
   "metadata": {
    "id": "CZrqXI-I55PO"
   },
   "source": [
    "**Create a function for model training and report which can be used in hyperparameter tuning loop**"
   ]
  },
  {
   "cell_type": "code",
   "execution_count": null,
   "metadata": {
    "id": "mxMLZxjXCtPU",
    "outputId": "9f210907-a241-47a5-8d31-042d408b17f2"
   },
   "outputs": [],
   "source": [
    "from sklearn.model_selection import RandomizedSearchCV\n",
    "\n",
    "model_param = {}\n",
    "for name, model, params in randomcv_models:\n",
    "    random = RandomizedSearchCV(estimator=model,\n",
    "                                   param_distributions=params,\n",
    "                                   n_iter=100,\n",
    "                                   cv=3,\n",
    "                                   verbose=2,\n",
    "                                   n_jobs=-1)\n",
    "    random.fit(X_res, y_res)\n",
    "    model_param[name] = random.best_params_\n",
    "\n",
    "for model_name in model_param:\n",
    "    print(f\"---------------- Best Params for {model_name} -------------------\")\n",
    "    print(model_param[model_name])"
   ]
  },
  {
   "cell_type": "markdown",
   "metadata": {
    "id": "WT3z867VCtdD"
   },
   "source": [
    "## Retraining the Model with best Parameters"
   ]
  },
  {
   "cell_type": "code",
   "execution_count": null,
   "metadata": {
    "id": "jYSUq9uPCtgT",
    "outputId": "3fe0eb76-c033-4cd7-8df0-71ed7e845cfb"
   },
   "outputs": [],
   "source": [
    "from sklearn.metrics import roc_auc_score,roc_curve\n",
    "best_models = {\n",
    "    \"Random Forest Classifier\": RandomForestClassifier(**model_param['RF']),\n",
    "    \"KNeighborsClassifier\": KNeighborsClassifier(**model_param['KNN']),\n",
    "    \"XGBClassifier\": XGBClassifier(**model_param['XGBoost'],n_jobs=-1),\n",
    "}\n",
    "tuned_report =evaluate_models(X=X_res, y=y_res, models=best_models)"
   ]
  },
  {
   "cell_type": "code",
   "execution_count": null,
   "metadata": {
    "id": "zYZAbryUCtj6",
    "outputId": "ecbc7b90-3eca-4a00-ff03-d12fc0cf19d2"
   },
   "outputs": [],
   "source": [
    "tuned_report"
   ]
  },
  {
   "cell_type": "code",
   "execution_count": null,
   "metadata": {
    "id": "59C1h48mCtyp",
    "outputId": "79239990-e487-49e6-b80a-969163eaeebd"
   },
   "outputs": [],
   "source": [
    "best_model = KNeighborsClassifier(**model_param['KNN'])\n",
    "best_model = best_model.fit(X_train,y_train)\n",
    "y_pred = best_model.predict(X_test)\n",
    "score = accuracy_score(y_test,y_pred)\n",
    "cr = classification_report(y_test,y_pred)\n",
    "\n",
    "print(\"FINAL MODEL 'KNN'\")\n",
    "print (\"Accuracy Score value: {:.4f}\".format(score))\n",
    "print (cr)"
   ]
  },
  {
   "cell_type": "code",
   "execution_count": null,
   "metadata": {
    "id": "KoV5grMt55WH",
    "outputId": "c9ffc63d-4b45-482b-815e-b3035f39aafc"
   },
   "outputs": [],
   "source": [
    "from sklearn.metrics import ConfusionMatrixDisplay\n",
    "ConfusionMatrixDisplay.from_estimator(best_model, X_test, y_test)"
   ]
  },
  {
   "cell_type": "markdown",
   "metadata": {
    "id": "0C-fUsoFJL1g"
   },
   "source": [
    "## Best Model is K-Nearest Neighbor(KNN) with Accuracy 96.66%"
   ]
  }
 ],
 "metadata": {
  "accelerator": "GPU",
  "colab": {
   "gpuType": "T4",
   "provenance": []
  },
  "kaggle": {
   "accelerator": "none",
   "dataSources": [
    {
     "datasetId": 2083504,
     "sourceId": 3459998,
     "sourceType": "datasetVersion"
    }
   ],
   "dockerImageVersionId": 30761,
   "isGpuEnabled": false,
   "isInternetEnabled": false,
   "language": "python",
   "sourceType": "notebook"
  },
  "kernelspec": {
   "display_name": "vehicle",
   "language": "python",
   "name": "python3"
  },
  "language_info": {
   "codemirror_mode": {
    "name": "ipython",
    "version": 3
   },
   "file_extension": ".py",
   "mimetype": "text/x-python",
   "name": "python",
   "nbconvert_exporter": "python",
   "pygments_lexer": "ipython3",
   "version": "3.10.18"
  }
 },
 "nbformat": 4,
 "nbformat_minor": 4
}
